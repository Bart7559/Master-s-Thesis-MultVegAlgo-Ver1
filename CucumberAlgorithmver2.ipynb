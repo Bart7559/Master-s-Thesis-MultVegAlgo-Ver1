{
 "cells": [
  {
   "cell_type": "code",
   "execution_count": 108,
   "metadata": {},
   "outputs": [
    {
     "name": "stdout",
     "output_type": "stream",
     "text": [
      "  Cucumber_Num  Price  Stock\n",
      "0          No2   62.0     81\n",
      "1          No3   60.5     14\n",
      "2          No4   54.5      3\n",
      "3          No5   75.0     94\n",
      "4          No6   59.5     35\n",
      "5          No7   60.5     31\n",
      "6          No8   52.5     28\n"
     ]
    }
   ],
   "source": [
    "# ライブラリーのインポート\n",
    "import pandas as pd\n",
    "import random\n",
    "\n",
    "cucumber_values = {\n",
    "    \"No2\": 62,\n",
    "    \"No3\": 60.5,\n",
    "    \"No4\": 54.5,\n",
    "    \"No5\": 75,\n",
    "    \"No6\": 59.5,\n",
    "    \"No7\": 60.5,\n",
    "    \"No8\": 52.5\n",
    "}\n",
    "\n",
    "random.seed(42)  # 再現性のためにシードを固定\n",
    "# ランダムな在庫数を生成して新しい辞書を作成\n",
    "cucumber_stock = {key: random.randint(0, 100) for key in cucumber_values}\n",
    "\n",
    "# 辞書からデータフレームを作成\n",
    "df = pd.DataFrame({\n",
    "    'Cucumber_Num': list(cucumber_values.keys()),\n",
    "    'Price': list(cucumber_values.values()),\n",
    "    'Stock': [cucumber_stock[key] for key in cucumber_values.keys()]\n",
    "})\n",
    "\n",
    "print(df)\n"
   ]
  },
  {
   "cell_type": "code",
   "execution_count": 109,
   "metadata": {},
   "outputs": [
    {
     "name": "stdout",
     "output_type": "stream",
     "text": [
      "286\n",
      "28\n"
     ]
    }
   ],
   "source": [
    "# 在庫に応じて、作成する箱の数を算出する\n",
    "print(df['Stock'].sum())\n",
    "total_stock = df['Stock'].sum()\n",
    "max_box_num = total_stock // 10\n",
    "print(max_box_num)"
   ]
  },
  {
   "cell_type": "code",
   "execution_count": 110,
   "metadata": {},
   "outputs": [
    {
     "name": "stdout",
     "output_type": "stream",
     "text": [
      "Empty DataFrame\n",
      "Columns: [Box_No, Total Amount, veg1, veg2, veg3, veg4, veg5, veg6, veg7, veg8, veg9, veg10]\n",
      "Index: []\n"
     ]
    }
   ],
   "source": [
    "# 箱の中身を表す表の作成\n",
    "columns = ['Box_No', 'Total Amount', 'veg1', 'veg2', 'veg3', 'veg4', 'veg5', 'veg6', 'veg7', 'veg8', 'veg9' ,'veg10']\n",
    "Box_df = pd.DataFrame(columns = columns)\n",
    "print(Box_df)"
   ]
  },
  {
   "cell_type": "code",
   "execution_count": 111,
   "metadata": {},
   "outputs": [
    {
     "name": "stdout",
     "output_type": "stream",
     "text": [
      "   Box_No Total Amount veg1 veg2 veg3 veg4 veg5 veg6 veg7 veg8 veg9 veg10\n",
      "0       1          NaN  NaN  NaN  NaN  NaN  NaN  NaN  NaN  NaN  NaN   NaN\n",
      "1       2          NaN  NaN  NaN  NaN  NaN  NaN  NaN  NaN  NaN  NaN   NaN\n",
      "2       3          NaN  NaN  NaN  NaN  NaN  NaN  NaN  NaN  NaN  NaN   NaN\n",
      "3       4          NaN  NaN  NaN  NaN  NaN  NaN  NaN  NaN  NaN  NaN   NaN\n",
      "4       5          NaN  NaN  NaN  NaN  NaN  NaN  NaN  NaN  NaN  NaN   NaN\n",
      "5       6          NaN  NaN  NaN  NaN  NaN  NaN  NaN  NaN  NaN  NaN   NaN\n",
      "6       7          NaN  NaN  NaN  NaN  NaN  NaN  NaN  NaN  NaN  NaN   NaN\n",
      "7       8          NaN  NaN  NaN  NaN  NaN  NaN  NaN  NaN  NaN  NaN   NaN\n",
      "8       9          NaN  NaN  NaN  NaN  NaN  NaN  NaN  NaN  NaN  NaN   NaN\n",
      "9      10          NaN  NaN  NaN  NaN  NaN  NaN  NaN  NaN  NaN  NaN   NaN\n",
      "10     11          NaN  NaN  NaN  NaN  NaN  NaN  NaN  NaN  NaN  NaN   NaN\n",
      "11     12          NaN  NaN  NaN  NaN  NaN  NaN  NaN  NaN  NaN  NaN   NaN\n",
      "12     13          NaN  NaN  NaN  NaN  NaN  NaN  NaN  NaN  NaN  NaN   NaN\n",
      "13     14          NaN  NaN  NaN  NaN  NaN  NaN  NaN  NaN  NaN  NaN   NaN\n",
      "14     15          NaN  NaN  NaN  NaN  NaN  NaN  NaN  NaN  NaN  NaN   NaN\n",
      "15     16          NaN  NaN  NaN  NaN  NaN  NaN  NaN  NaN  NaN  NaN   NaN\n",
      "16     17          NaN  NaN  NaN  NaN  NaN  NaN  NaN  NaN  NaN  NaN   NaN\n",
      "17     18          NaN  NaN  NaN  NaN  NaN  NaN  NaN  NaN  NaN  NaN   NaN\n",
      "18     19          NaN  NaN  NaN  NaN  NaN  NaN  NaN  NaN  NaN  NaN   NaN\n",
      "19     20          NaN  NaN  NaN  NaN  NaN  NaN  NaN  NaN  NaN  NaN   NaN\n",
      "20     21          NaN  NaN  NaN  NaN  NaN  NaN  NaN  NaN  NaN  NaN   NaN\n",
      "21     22          NaN  NaN  NaN  NaN  NaN  NaN  NaN  NaN  NaN  NaN   NaN\n",
      "22     23          NaN  NaN  NaN  NaN  NaN  NaN  NaN  NaN  NaN  NaN   NaN\n",
      "23     24          NaN  NaN  NaN  NaN  NaN  NaN  NaN  NaN  NaN  NaN   NaN\n",
      "24     25          NaN  NaN  NaN  NaN  NaN  NaN  NaN  NaN  NaN  NaN   NaN\n",
      "25     26          NaN  NaN  NaN  NaN  NaN  NaN  NaN  NaN  NaN  NaN   NaN\n",
      "26     27          NaN  NaN  NaN  NaN  NaN  NaN  NaN  NaN  NaN  NaN   NaN\n",
      "27     28          NaN  NaN  NaN  NaN  NaN  NaN  NaN  NaN  NaN  NaN   NaN\n"
     ]
    }
   ],
   "source": [
    "for i in range(max_box_num):\n",
    "    Box_df.loc[i, 'Box_No'] = i + 1\n",
    "\n",
    "print(Box_df)"
   ]
  },
  {
   "cell_type": "code",
   "execution_count": 112,
   "metadata": {},
   "outputs": [],
   "source": [
    "Box_df['Total Amount'] = 0.0  # データ型をfloatに設定"
   ]
  },
  {
   "cell_type": "code",
   "execution_count": 113,
   "metadata": {},
   "outputs": [],
   "source": [
    "# ランダムに最初の野菜を各箱に割り当てる。1回目の割り付け\n",
    "for i in range(max_box_num):\n",
    "    random_index = random.choice(df.index[df['Stock'] > 0].tolist())\n",
    "    Box_df.loc[i, 'veg1'] = df.loc[random_index, 'Cucumber_Num']\n",
    "    Box_df.loc[i, 'Total Amount'] += df.loc[random_index, 'Price']\n",
    "    df.loc[random_index, 'Stock'] -= 1"
   ]
  },
  {
   "cell_type": "code",
   "execution_count": 114,
   "metadata": {},
   "outputs": [
    {
     "name": "stdout",
     "output_type": "stream",
     "text": [
      "   Box_No  Total Amount veg1 veg2 veg3 veg4 veg5 veg6 veg7 veg8 veg9 veg10\n",
      "0       1          60.5  No3  NaN  NaN  NaN  NaN  NaN  NaN  NaN  NaN   NaN\n",
      "1       2          60.5  No7  NaN  NaN  NaN  NaN  NaN  NaN  NaN  NaN   NaN\n",
      "2       3          62.0  No2  NaN  NaN  NaN  NaN  NaN  NaN  NaN  NaN   NaN\n",
      "3       4          60.5  No7  NaN  NaN  NaN  NaN  NaN  NaN  NaN  NaN   NaN\n",
      "4       5          60.5  No7  NaN  NaN  NaN  NaN  NaN  NaN  NaN  NaN   NaN\n",
      "5       6          59.5  No6  NaN  NaN  NaN  NaN  NaN  NaN  NaN  NaN   NaN\n",
      "6       7          62.0  No2  NaN  NaN  NaN  NaN  NaN  NaN  NaN  NaN   NaN\n",
      "7       8          59.5  No6  NaN  NaN  NaN  NaN  NaN  NaN  NaN  NaN   NaN\n",
      "8       9          75.0  No5  NaN  NaN  NaN  NaN  NaN  NaN  NaN  NaN   NaN\n",
      "9      10          62.0  No2  NaN  NaN  NaN  NaN  NaN  NaN  NaN  NaN   NaN\n",
      "10     11          62.0  No2  NaN  NaN  NaN  NaN  NaN  NaN  NaN  NaN   NaN\n",
      "11     12          62.0  No2  NaN  NaN  NaN  NaN  NaN  NaN  NaN  NaN   NaN\n",
      "12     13          60.5  No3  NaN  NaN  NaN  NaN  NaN  NaN  NaN  NaN   NaN\n",
      "13     14          60.5  No3  NaN  NaN  NaN  NaN  NaN  NaN  NaN  NaN   NaN\n",
      "14     15          59.5  No6  NaN  NaN  NaN  NaN  NaN  NaN  NaN  NaN   NaN\n",
      "15     16          59.5  No6  NaN  NaN  NaN  NaN  NaN  NaN  NaN  NaN   NaN\n",
      "16     17          62.0  No2  NaN  NaN  NaN  NaN  NaN  NaN  NaN  NaN   NaN\n",
      "17     18          59.5  No6  NaN  NaN  NaN  NaN  NaN  NaN  NaN  NaN   NaN\n",
      "18     19          60.5  No3  NaN  NaN  NaN  NaN  NaN  NaN  NaN  NaN   NaN\n",
      "19     20          60.5  No7  NaN  NaN  NaN  NaN  NaN  NaN  NaN  NaN   NaN\n",
      "20     21          60.5  No7  NaN  NaN  NaN  NaN  NaN  NaN  NaN  NaN   NaN\n",
      "21     22          60.5  No7  NaN  NaN  NaN  NaN  NaN  NaN  NaN  NaN   NaN\n",
      "22     23          59.5  No6  NaN  NaN  NaN  NaN  NaN  NaN  NaN  NaN   NaN\n",
      "23     24          75.0  No5  NaN  NaN  NaN  NaN  NaN  NaN  NaN  NaN   NaN\n",
      "24     25          60.5  No3  NaN  NaN  NaN  NaN  NaN  NaN  NaN  NaN   NaN\n",
      "25     26          75.0  No5  NaN  NaN  NaN  NaN  NaN  NaN  NaN  NaN   NaN\n",
      "26     27          59.5  No6  NaN  NaN  NaN  NaN  NaN  NaN  NaN  NaN   NaN\n",
      "27     28          54.5  No4  NaN  NaN  NaN  NaN  NaN  NaN  NaN  NaN   NaN\n"
     ]
    }
   ],
   "source": [
    "print(Box_df)"
   ]
  },
  {
   "cell_type": "code",
   "execution_count": 115,
   "metadata": {},
   "outputs": [
    {
     "name": "stdout",
     "output_type": "stream",
     "text": [
      "61.910714285714285\n"
     ]
    }
   ],
   "source": [
    "mean_amount = Box_df['Total Amount'].mean()\n",
    "print(mean_amount)"
   ]
  },
  {
   "cell_type": "code",
   "execution_count": 105,
   "metadata": {},
   "outputs": [],
   "source": [
    "closest_box_index = (Box_df['Total Amount'] - mean_amount).abs().idxmax()"
   ]
  },
  {
   "cell_type": "code",
   "execution_count": 116,
   "metadata": {},
   "outputs": [
    {
     "name": "stdout",
     "output_type": "stream",
     "text": [
      "   Box_No  Total Amount veg1 veg2 veg3 veg4 veg5 veg6 veg7 veg8 veg9 veg10\n",
      "0       1         644.0  No3  No8  No6  No7  No2  No2  No2  No5  No5   No5\n",
      "1       2         644.0  No7  No8  No6  No7  No2  No2  No2  No5  No5   No5\n",
      "2       3         645.5  No2  No8  No6  No7  No2  No2  No2  No5  No5   No5\n",
      "3       4         644.0  No7  No8  No6  No7  No2  No2  No2  No5  No5   No5\n",
      "4       5         644.0  No7  No8  No6  No7  No2  No2  No2  No5  No5   No5\n",
      "5       6         641.5  No6  No8  No6  No3  No7  No2  No2  No5  No5   No5\n",
      "6       7         645.5  No2  No8  No6  No7  No2  No2  No2  No5  No5   No5\n",
      "7       8         641.5  No6  No8  No6  No3  No7  No2  No2  No5  No5   No5\n",
      "8       9         651.0  No5  No8  No4  No6  No7  No2  No2  No5  No5   No5\n",
      "9      10         645.5  No2  No8  No6  No7  No2  No2  No2  No5  No5   No5\n",
      "10     11         645.5  No2  No8  No6  No7  No2  No2  No2  No5  No5   No5\n",
      "11     12         645.5  No2  No8  No6  No7  No2  No2  No2  No5  No5   No5\n",
      "12     13         644.0  No3  No8  No6  No7  No2  No2  No2  No5  No5   No5\n",
      "13     14         644.0  No3  No8  No6  No7  No2  No2  No2  No5  No5   No5\n",
      "14     15         641.5  No6  No8  No6  No3  No7  No2  No2  No5  No5   No5\n",
      "15     16         641.5  No6  No8  No6  No3  No7  No2  No2  No5  No5   No5\n",
      "16     17         645.5  No2  No8  No6  No7  No2  No2  No2  No5  No5   No5\n",
      "17     18         643.0  No6  No8  No6  No3  No2  No2  No2  No5  No5   No5\n",
      "18     19         644.0  No3  No8  No6  No7  No2  No2  No2  No5  No5   No5\n",
      "19     20         644.0  No7  No8  No6  No7  No2  No2  No2  No5  No5   No5\n",
      "20     21         644.0  No7  No8  No6  No7  No2  No2  No2  No5  No5   No5\n",
      "21     22         644.0  No7  No8  No6  No7  No2  No2  No2  No5  No5   No5\n",
      "22     23         643.0  No6  No8  No6  No3  No2  No2  No2  No5  No5   No5\n",
      "23     24         652.0  No5  No8  No4  No3  No7  No2  No2  No5  No5   No5\n",
      "24     25         657.0  No3  No8  No6  No7  No2  No2  No5  No5  No5   No5\n",
      "25     26         656.0  No5  No8  No6  No6  No7  No2  No2  No5  No5   No5\n",
      "26     27         643.0  No6  No8  No6  No3  No2  No2  No2  No5  No5   No5\n",
      "27     28         636.5  No4  No8  No6  No3  No7  No2  No2  No5  No5   No5\n",
      "  Cucumber_Num  Price  Stock\n",
      "0          No2   62.0      0\n",
      "1          No3   60.5      0\n",
      "2          No4   54.5      0\n",
      "3          No5   75.0      6\n",
      "4          No6   59.5      0\n",
      "5          No7   60.5      0\n",
      "6          No8   52.5      0\n"
     ]
    }
   ],
   "source": [
    "# veg列のリスト\n",
    "veg_columns = ['veg2', 'veg3', 'veg4', 'veg5', 'veg6', 'veg7', 'veg8', 'veg9', 'veg10']\n",
    "\n",
    "# 各veg列に対して割り当て処理を行う\n",
    "for veg_col in veg_columns:\n",
    "    # 平均値の計算\n",
    "    mean_amount = Box_df['Total Amount'].mean()\n",
    "    \n",
    "    # 各列の割り当てを行う\n",
    "    for _ in range(len(Box_df)):\n",
    "\n",
    "        # フラッグが立っていない箱の中で最も平均値から離れている箱を選択\n",
    "        available_boxes = Box_df[Box_df[veg_col].isna()]\n",
    "        if available_boxes.empty:\n",
    "            break\n",
    "\n",
    "        closest_box_index = (available_boxes['Total Amount'] - mean_amount).abs().idxmax()\n",
    "\n",
    "        current_amount = Box_df.at[closest_box_index, 'Total Amount']\n",
    "        best_veg = None\n",
    "        best_diff = float('inf')\n",
    "\n",
    "        # 価格が平均値に最も近づく野菜を選択\n",
    "        for i, cucumber in df.iterrows():\n",
    "            if cucumber['Stock'] > 0:\n",
    "                new_amount = current_amount + cucumber['Price']\n",
    "                diff = abs(new_amount - mean_amount)\n",
    "                if diff < best_diff:\n",
    "                    best_diff = diff\n",
    "                    best_veg = cucumber['Cucumber_Num']\n",
    "\n",
    "        # 最良の野菜を割り当て、在庫を減らす\n",
    "        if best_veg:\n",
    "            Box_df.at[closest_box_index, veg_col] = best_veg\n",
    "            df.loc[df['Cucumber_Num'] == best_veg, 'Stock'] -= 1\n",
    "            # Total Amountの更新\n",
    "            Box_df.at[closest_box_index, 'Total Amount'] += df.loc[df['Cucumber_Num'] == best_veg, 'Price'].values[0]\n",
    "\n",
    "print(Box_df)\n",
    "print(df)"
   ]
  },
  {
   "cell_type": "code",
   "execution_count": 117,
   "metadata": {},
   "outputs": [
    {
     "name": "stdout",
     "output_type": "stream",
     "text": [
      "Total Amount Variance: 18.323743386243386\n",
      "Mean Deviation: 2.77295918367346\n"
     ]
    }
   ],
   "source": [
    "# 合計価格の分散を計算\n",
    "total_amount_variance = Box_df['Total Amount'].var()\n",
    "print(f\"Total Amount Variance: {total_amount_variance}\")\n",
    "\n",
    "# 平均偏差の計算\n",
    "mean_amount = Box_df['Total Amount'].mean()\n",
    "mean_deviation = Box_df['Total Amount'].apply(lambda x: abs(x - mean_amount)).mean()\n",
    "print(f\"Mean Deviation: {mean_deviation}\")"
   ]
  }
 ],
 "metadata": {
  "kernelspec": {
   "display_name": ".gpt",
   "language": "python",
   "name": "python3"
  },
  "language_info": {
   "codemirror_mode": {
    "name": "ipython",
    "version": 3
   },
   "file_extension": ".py",
   "mimetype": "text/x-python",
   "name": "python",
   "nbconvert_exporter": "python",
   "pygments_lexer": "ipython3",
   "version": "3.11.7"
  }
 },
 "nbformat": 4,
 "nbformat_minor": 2
}
